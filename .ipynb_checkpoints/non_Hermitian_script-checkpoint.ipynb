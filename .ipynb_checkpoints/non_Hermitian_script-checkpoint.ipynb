{
 "cells": [
  {
   "cell_type": "markdown",
   "id": "8b0d4ff8-5cdd-40d4-bc22-d6b4c60c3828",
   "metadata": {},
   "source": [
    "# Quantum circuit for a time-independent non-Hermitian Hamiltonian\n",
    "\n",
    "This script implements the quantum circuit used in the following article:\n",
    "\n",
    ">Dogra, S., Melnikov, A.A. & Paraoanu, G.S. \\\n",
    ">Quantum simulation of parity–time symmetry breaking with a superconducting quantum processor. \\\n",
    ">Commun Phys 4, 26 (2021). \\\n",
    ">https://doi.org/10.1038/s42005-021-00534-2\n",
    "\n",
    "References to equations and figures below refer to those in this article. \n",
    "\n",
    "This script is a refactored Python version of the original Matlab script used in the article.\n",
    "The original version can be found here: https://github.com/Arty1498/Non-Hermitian"
   ]
  },
  {
   "cell_type": "markdown",
   "id": "e0428f85-8579-4934-9176-d5a46057f910",
   "metadata": {},
   "source": [
    "## Imports\n",
    "In addition to the Python standard library, Numpy and Scipy, this script also uses the __[Qutip](https://qutip.org/)__ and __[Qiskit](https://qiskit.org/)__ libraries."
   ]
  },
  {
   "cell_type": "code",
   "execution_count": 1,
   "id": "d92c8b9d-5a5c-49f4-8dc2-095a52d2bfa6",
   "metadata": {},
   "outputs": [],
   "source": [
    "import itertools as it\n",
    "import functools as ft\n",
    "\n",
    "import numpy as np\n",
    "import qiskit as qk\n",
    "import qutip as qt\n",
    "import scipy as sc\n",
    "from qiskit.tools.visualization import plot_histogram\n",
    "from qutip.qip.operations import cnot, qasmu_gate, rx, ry, rz\n",
    "from scipy.misc import derivative\n",
    "from scipy.optimize import minimize, root"
   ]
  },
  {
   "cell_type": "markdown",
   "id": "a78fb969-f15f-4b7d-995a-77e986677812",
   "metadata": {},
   "source": [
    "## Constants\n",
    "Here we define some constants used throughout the script.\n",
    "\n",
    "The basis states $| 0 \\rangle$, $| 1 \\rangle$, $| 00 \\rangle$ = $| 0 \\rangle \\otimes | 0 \\rangle$ etc."
   ]
  },
  {
   "cell_type": "code",
   "execution_count": 2,
   "id": "7e2b5fe8-40ec-4144-aa5e-3f189dce1c02",
   "metadata": {},
   "outputs": [],
   "source": [
    "ket0 = qt.ket([0])\n",
    "ket1 = qt.ket([1])\n",
    "ket00 = qt.ket([0, 0])\n",
    "ket01 = qt.ket([0, 1])\n",
    "ket10 = qt.ket([1, 0])\n",
    "ket11 = qt.ket([1, 1])\n",
    "basis4 = [ket00, ket01, ket10, ket11]"
   ]
  },
  {
   "cell_type": "markdown",
   "id": "7c1003dc-30b7-468b-95e6-f43450fce306",
   "metadata": {},
   "source": [
    "The 2-dimensional identity operator/matrix $I_2$ and the 4-dimensional equivalent $I_4 = I_2 \\otimes I_2$:"
   ]
  },
  {
   "cell_type": "code",
   "execution_count": 3,
   "id": "d92f8213",
   "metadata": {},
   "outputs": [],
   "source": [
    "I = qt.identity(2)\n",
    "II = qt.tensor(I, I)"
   ]
  },
  {
   "cell_type": "markdown",
   "id": "8ae06185-b8cd-47b7-9f31-f1a9aa4cfd40",
   "metadata": {},
   "source": [
    "The Pauli matrixes $\\sigma_x$, $\\sigma_y$ and $\\sigma_z$:"
   ]
  },
  {
   "cell_type": "code",
   "execution_count": 4,
   "id": "9b7c9a99-332f-4ba0-a887-acd3ac31a24a",
   "metadata": {},
   "outputs": [],
   "source": [
    "σx = qt.sigmax()\n",
    "σy = qt.sigmay()\n",
    "σz = qt.sigmaz()"
   ]
  },
  {
   "cell_type": "markdown",
   "id": "d56174b7-1a82-4138-954e-27dc3c9506c5",
   "metadata": {},
   "source": [
    "### Qubit ordering\n",
    "\n",
    "There are two choices for the enumeration of (qu)bits in a multi-(qu)bit state:\n",
    "$| \\text{bit 0, bit 1, bit 2, ...} \\rangle$ and $| \\text{..., bit 2, bit 1, bit 0} \\rangle$.\n",
    "\n",
    "The article seems to use the first one. The ancilla is pictured as the topmost qubit in the circuit of fig. 1a), and it's on the left side in tensor products:\n",
    "$$ | \\psi \\rangle_\\mathrm{aq} = | \\psi \\rangle_\\mathrm{a} \\otimes | \\psi \\rangle_\\mathrm{q} .$$\n",
    "Qutip uses the same convention. We can check this by testing the CNOT gate, which flips the target qubit to 0 when operating on the state $| 11 \\rangle$."
   ]
  },
  {
   "cell_type": "code",
   "execution_count": 5,
   "id": "eb4cbe24-7e11-4770-9311-99333a3cfeca",
   "metadata": {},
   "outputs": [
    {
     "data": {
      "text/plain": [
       "True"
      ]
     },
     "execution_count": 5,
     "metadata": {},
     "output_type": "execute_result"
    }
   ],
   "source": [
    "cnot(2, control=0, target=1) * ket11 == ket10"
   ]
  },
  {
   "cell_type": "markdown",
   "id": "cb5a3635-1d49-4f12-b11f-01fb842bef12",
   "metadata": {},
   "source": [
    "This result shows that `target=1` targets the rightmost bit; i.e. the bits are enumerated as $| \\text{bit 0, bit 1} \\rangle$.\n",
    "This matches the indexing system used by Python, where the elements of sequences such as lists are defined so that `a = [a[0], a[1], a[2], ...]`.\n",
    "\n",
    "\n",
    "On the contrary, Qiskit uses the opposite system:"
   ]
  },
  {
   "cell_type": "code",
   "execution_count": 6,
   "id": "b42b7921-d1c0-4ebd-bbbd-679b24964f71",
   "metadata": {},
   "outputs": [
    {
     "data": {
      "text/plain": [
       "True"
      ]
     },
     "execution_count": 6,
     "metadata": {},
     "output_type": "execute_result"
    }
   ],
   "source": [
    "test_qc = qk.QuantumCircuit(2)\n",
    "test_qc.cx(control_qubit=0, target_qubit=1)\n",
    "operator = qt.Qobj(qk.quantum_info.Operator(test_qc).data)\n",
    "operator.dims = [[2, 2], [2, 2]]\n",
    "operator * ket11 == ket01"
   ]
  },
  {
   "cell_type": "markdown",
   "id": "57a4b3e7-d8cd-4e91-ba46-2922bf64c319",
   "metadata": {},
   "source": [
    "We see that `target_qubit=1` targets the left qubit this time. This convention matches the one usually used to label the bits in a binary number, where bit number 0 is the rightmost, least significant bit.\n",
    "\n",
    "In this script, the $| \\text{bit 0, bit 1} \\rangle$ convention is used by default, resulting in this numbering scheme: "
   ]
  },
  {
   "cell_type": "code",
   "execution_count": 7,
   "id": "fe89009e-3a98-456d-8a18-93668d50e0b3",
   "metadata": {},
   "outputs": [],
   "source": [
    "ancilla = 0\n",
    "qubit = 1"
   ]
  },
  {
   "cell_type": "markdown",
   "id": "2a98882a-fb5a-4fe4-ae54-79459058f7c1",
   "metadata": {},
   "source": [
    "Whenever Qiskit is used in a manner that requires numbering the bits, the following inverted scheme will be used instead:"
   ]
  },
  {
   "cell_type": "code",
   "execution_count": 8,
   "id": "8e85ffca-5825-40c0-9afd-dc1119875263",
   "metadata": {},
   "outputs": [],
   "source": [
    "ancilla_qk = 1\n",
    "qubit_qk = 0"
   ]
  },
  {
   "cell_type": "markdown",
   "id": "5ede7087-f5ab-46e9-b75e-f62639efd807",
   "metadata": {},
   "source": [
    "In the quantum circuit this script implements, the CNOT gates act on the ancilla with the qubit as the control.\n",
    "We thus define the CNOT gate as"
   ]
  },
  {
   "cell_type": "code",
   "execution_count": 9,
   "id": "010967c7-6e50-4a52-978f-e60758adf06d",
   "metadata": {},
   "outputs": [],
   "source": [
    "cx = cnot(2, control=qubit, target=ancilla)"
   ]
  },
  {
   "cell_type": "markdown",
   "id": "1b0936a1-b18a-4c0f-b17e-ccb12ed2aa50",
   "metadata": {},
   "source": [
    "## Parameters\n",
    "The values for the time $t$ and the parameter $r$ are defined here."
   ]
  },
  {
   "cell_type": "code",
   "execution_count": 10,
   "id": "d682b3b6-ea02-4a92-98f7-ab9c24a05bab",
   "metadata": {},
   "outputs": [],
   "source": [
    "r = 0.6\n",
    "t = 1.0"
   ]
  },
  {
   "cell_type": "markdown",
   "id": "2852f4ac-c426-4d06-a267-1558075c5494",
   "metadata": {},
   "source": [
    "The non-Hermitian Hamiltonian describing the qubit (without the ancilla) is then (eq. 1)\n",
    "$$ H_q = \\sigma_x + i r \\sigma_z = \\begin{pmatrix} ir & 1 \\\\ 1 & -ir \\end{pmatrix} .$$"
   ]
  },
  {
   "cell_type": "code",
   "execution_count": 11,
   "id": "8a728661-6b47-4128-9ded-3423dfaffab1",
   "metadata": {},
   "outputs": [
    {
     "data": {
      "text/latex": [
       "Quantum object: dims = [[2], [2]], shape = (2, 2), type = oper, isherm = False\\begin{equation*}\\left(\\begin{array}{*{11}c}0.600j & 1.0\\\\1.0 & -0.600j\\\\\\end{array}\\right)\\end{equation*}"
      ],
      "text/plain": [
       "Quantum object: dims = [[2], [2]], shape = (2, 2), type = oper, isherm = False\n",
       "Qobj data =\n",
       "[[0.+0.6j 1.+0.j ]\n",
       " [1.+0.j  0.-0.6j]]"
      ]
     },
     "execution_count": 11,
     "metadata": {},
     "output_type": "execute_result"
    }
   ],
   "source": [
    "Hq = σx + 1j * r * σz\n",
    "Hq"
   ]
  },
  {
   "cell_type": "markdown",
   "id": "1bce1135-eb16-449c-a094-ce3b7b887b15",
   "metadata": {},
   "source": [
    "## M(t)"
   ]
  },
  {
   "cell_type": "markdown",
   "id": "a947bf85-abd4-4ef5-b4b4-600a80e0d344",
   "metadata": {},
   "source": [
    "The function $M(t)$ is defined as (eq. 11)\n",
    "$$ M(t) = T \\mathrm{exp} \\left[ -i \\int_0^t d\\tau H_q^\\dagger (\\tau) \\right] M(0) \\tilde{T} \\mathrm{exp} \\left[ i \\int_0^t d\\tau H_q(\\tau) \\right] .$$\n",
    "With our time-independent Hamiltonian this is simplified to\n",
    "$$ e^{-i H_q^\\dagger t} M(0) e^{i H_q t},$$\n",
    "where $M(0) = M_0$ is a constant.\n",
    "Following the treatment in the ‘Initial conditions’ section of the article, we begin by setting $M_0 = m_0 \\times I_2$ (eq. 14), where $m_0 > 1$ is chosen to be 2.\n",
    "Note that we don't actually have to include the identity matrix in the code, since we can multipy quantum objects by scalars."
   ]
  },
  {
   "cell_type": "code",
   "execution_count": 12,
   "id": "75277748",
   "metadata": {},
   "outputs": [],
   "source": [
    "m0 = 2\n",
    "def M(t):\n",
    "    return (-1j * Hq.dag() * t).expm() * m0 * (1j * Hq * t).expm()"
   ]
  },
  {
   "cell_type": "markdown",
   "id": "bfceb4fa-4750-489a-a0ca-562b4e678a72",
   "metadata": {},
   "source": [
    "We then numerically determine the minimum eigenvalue of $M(t)$ in the interval $[0, t]$."
   ]
  },
  {
   "cell_type": "code",
   "execution_count": 13,
   "id": "003c76b8-cac5-4cb9-8753-8bd43c8d6ea0",
   "metadata": {},
   "outputs": [],
   "source": [
    "def eigenvalue(i, t):\n",
    "    \"\"\"Return the i:th eigenvalue of M(t) at time t.\"\"\"\n",
    "    value = np.linalg.eig(M(t))[0][i]\n",
    "    # Make sure the eigenvalues are real (within numerical accuracy), as they\n",
    "    # should be.\n",
    "    assert abs(value.imag) < 1E-3\n",
    "    return value.real\n",
    "\n",
    "def min_eig(i, t):\n",
    "    \"\"\"Return the minimum of the i:th eigenvalue of M(t) in the interval\n",
    "    [0, t].\n",
    "    \"\"\"\n",
    "    if t == 0:\n",
    "        return eigenvalue(i, t)\n",
    "    # item() is needed because minimize passes t to func as a one-element\n",
    "    # array. \n",
    "    func = lambda t: eigenvalue(i, t.item())\n",
    "    return sc.optimize.minimize(func, x0=0, bounds=[(0, t)]).fun"
   ]
  },
  {
   "cell_type": "code",
   "execution_count": 14,
   "id": "bcb09401-aa2e-402d-9ff6-f9f644bb7518",
   "metadata": {},
   "outputs": [],
   "source": [
    "mu = min(min_eig(0, t), min_eig(1, t))"
   ]
  },
  {
   "cell_type": "markdown",
   "id": "c3ad9ea7-f96e-4282-a122-05c5cd1e0826",
   "metadata": {},
   "source": [
    "Finally, we replace the original $m_0$ with\n",
    "$$\\frac{m_0}{\\mu_\\mathrm{min}}f,$$\n",
    "where $f>1$ (we choose $f=1.01$) (eq. 15)."
   ]
  },
  {
   "cell_type": "code",
   "execution_count": 15,
   "id": "36ebd901-a5af-4b5d-8f07-33a7f08f6425",
   "metadata": {},
   "outputs": [],
   "source": [
    "f = 1.01\n",
    "m0 *= f / mu"
   ]
  },
  {
   "cell_type": "markdown",
   "id": "8267f053-2847-49a3-b34e-07dfb368e87b",
   "metadata": {},
   "source": [
    "## Other functions\n",
    "Now that $M(t)$ has been defined, we can define the rest of the auxiliary functions used in the article.\n",
    "\n",
    "Define (eq. 10)\n",
    "$$\\eta(t) = \\left( M(t) - I_2 \\right)^{1/2}$$\n",
    "and its time derivative:"
   ]
  },
  {
   "cell_type": "code",
   "execution_count": 16,
   "id": "9f7421e4-def8-4d82-ae7a-a659386737c0",
   "metadata": {},
   "outputs": [],
   "source": [
    "accuracy = 1E-6\n",
    "def derivate_Q(func, t0):\n",
    "    \"\"\"Compute the numerical time derivative of a quantum object.\n",
    "    \n",
    "    Args:\n",
    "        func: A function with the signature func(t) -> Qobj.\n",
    "        t0: The time at which the derivative is computed.\n",
    "    \"\"\"\n",
    "    dims = func(t0).shape\n",
    "    return qt.Qobj(\n",
    "        [[derivative(lambda t: func(t)[i, j], t0, accuracy)\n",
    "         for j in range(dims[1])]\n",
    "         for i in range(dims[0])])\n",
    "\n",
    "def η(t):\n",
    "    return (M(t) - I).sqrtm()\n",
    "\n",
    "def dη(t):\n",
    "    return derivate_Q(η, t)"
   ]
  },
  {
   "cell_type": "markdown",
   "id": "d2cc9401-5e39-4870-a642-21eb7edeb64f",
   "metadata": {},
   "source": [
    "Define (eq. 8)\n",
    "$$\\Lambda(t) = \\left[ H_q + i\\frac{\\mathrm{d}\\eta(t)}{\\mathrm{d}t}\\eta(t) + \\eta(t)H_q\\eta(t) \\right] M^{-1}(t)$$\n",
    "and (eq. 9)\n",
    "$$\\Gamma(t) = i \\left[ H_q\\eta(t) - \\eta(t)H_q - i\\frac{\\mathrm{d}\\eta(t)}{\\mathrm{d}t} \\right] M^{-1}(t).$$"
   ]
  },
  {
   "cell_type": "code",
   "execution_count": 17,
   "id": "cf260621-2363-4e13-87c5-b7bed4a30402",
   "metadata": {},
   "outputs": [],
   "source": [
    "def Λ(t):\n",
    "    return (Hq + 1j*dη(t)*η(t) + η(t)*Hq*η(t)) * M(t).inv()\n",
    "\n",
    "def Γ(t):\n",
    "    return 1j * (Hq*η(t) - η(t)*Hq - 1j*dη(t)) * M(t).inv()"
   ]
  },
  {
   "cell_type": "markdown",
   "id": "d1dcdc1d-215b-45ab-aebf-a4c8ea6cb346",
   "metadata": {},
   "source": [
    "## Full Hamiltonian\n",
    "Now we are ready to define the full Hamiltonian for the qubit–ancilla system, which is time-dependent and Hermitian.\n",
    "It is defined as (eq. 7)\n",
    "$$ H_\\mathrm{aq} = I_2 \\otimes \\Lambda(t) + \\sigma_y \\otimes \\Gamma(t) .$$"
   ]
  },
  {
   "cell_type": "code",
   "execution_count": 18,
   "id": "3593e5ca",
   "metadata": {},
   "outputs": [],
   "source": [
    "def Haq(t):\n",
    "    return qt.tensor(I, Λ(t)) + qt.tensor(σy, Γ(t))"
   ]
  },
  {
   "cell_type": "markdown",
   "id": "6cedc355-870a-49b2-8c74-093a4bb1d4cc",
   "metadata": {},
   "source": [
    "## Time evolution\n",
    "The identity operator $I$ can be written as $\\sum_i | i \\rangle \\langle i |$ by using the states $| i \\rangle$ of an orthonormal basis . \\\n",
    "This allows us to write the time evolution operator $U$ as\n",
    "$$ U = UI = U \\sum_i | i \\rangle \\langle i | = \\sum_i  | f \\rangle \\langle i |, $$\n",
    "where $| f \\rangle = U| i \\rangle$.\n",
    "\n",
    "We define a function that numerically evolves an initial state $| \\psi_i \\rangle = \\psi(0)$ to $| \\psi_f \\rangle = \\psi(t)$."
   ]
  },
  {
   "cell_type": "code",
   "execution_count": 19,
   "id": "160eeca7-0fe8-4d9d-8693-791c5e2dd0b6",
   "metadata": {},
   "outputs": [],
   "source": [
    "def evolve(ψi, H, t):\n",
    "    \"\"\"Evolve a quantum object with a Hamiltonian.\n",
    "\n",
    "    Args:\n",
    "        ψi: The initial state.\n",
    "        H: A function with the signature H(t) -> Qobj.\n",
    "        t: The object is evolved from time=0 to time=t.\n",
    "    \"\"\"\n",
    "    \n",
    "    def dt(t, array):\n",
    "        \"\"\"Return the time derivative of ψ, as given by the Schrödinger\n",
    "        equation iħ d/dt ψ = H ψ.\n",
    "        \n",
    "        The input and output values are arrays instead of Qobjs so that they\n",
    "        work with scipy.\n",
    "        \"\"\"\n",
    "        ψ = qt.Qobj(array)\n",
    "        # Make sure not only the shape but also the dims match.\n",
    "        ψ.dims = ψi.dims\n",
    "        return (-1j * H(t) * ψ).full().flat\n",
    "\n",
    "    # Qutip cannot do time evolution for non-Hermitian time-dependent \n",
    "    # Hamiltonians.\n",
    "    # Doing the evolution without Qutip makes this function work with\n",
    "    # those Hamiltonians too.\n",
    "    sol = sc.integrate.solve_ivp(dt, [0, t], ψi.full().flat)\n",
    "    ψf = qt.Qobj(sol.y[:, -1])\n",
    "    ψf.dims = ψi.dims\n",
    "    return ψf"
   ]
  },
  {
   "cell_type": "markdown",
   "id": "2d263935-5f1c-47f1-88df-721430067362",
   "metadata": {},
   "source": [
    "This allows us to compute the evolved basis states $| f \\rangle$ by evolving the initial states $| i \\rangle$ with the Hamiltonian $H_q$,\n",
    "and to use those to define the time evolution operator\n",
    "$$ U_\\mathrm{aq} = \\sum_i  | f_\\mathrm{aq} \\rangle \\langle i_{aq} |.$$\n",
    "The lower index $\\mathrm{aq}$ signifies that $U_\\mathrm{aq}$ is the time evolution operator for the combined cubit–ancilla system, while $| i_\\mathrm{aq} \\rangle$ and $| f_\\mathrm{aq} \\rangle$ are the initial and final basis states for that same system."
   ]
  },
  {
   "cell_type": "markdown",
   "id": "30cbaf12-3d14-455f-8b82-dfe1ac1ec53c",
   "metadata": {},
   "source": [
    "Now we can finally compute the time evolution operator $U_\\mathrm{aq}$ at the given time $t$:"
   ]
  },
  {
   "cell_type": "code",
   "execution_count": 20,
   "id": "690a7078-ad43-44e6-a736-d85c5f95949e",
   "metadata": {},
   "outputs": [],
   "source": [
    "def Uaq(t):\n",
    "    evolved_basis4 = [evolve(ψ, Haq, t) for ψ in basis4]\n",
    "    return sum(ψf * ψi.dag() for ψf, ψi in zip(evolved_basis4, basis4))"
   ]
  },
  {
   "cell_type": "code",
   "execution_count": 21,
   "id": "7991fcdb",
   "metadata": {},
   "outputs": [
    {
     "name": "stdout",
     "output_type": "stream",
     "text": [
      "CPU times: user 24.7 s, sys: 31.2 ms, total: 24.8 s\n",
      "Wall time: 24.8 s\n"
     ]
    },
    {
     "data": {
      "text/latex": [
       "Quantum object: dims = [[2, 2], [2, 2]], shape = (4, 4), type = oper, isherm = False\\begin{equation*}\\left(\\begin{array}{*{11}c}0.354 & -0.645j & 0.652 & -0.186j\\\\-0.645j & 0.647 & -0.187j & -0.361\\\\-0.652 & 0.186j & 0.354 & -0.645j\\\\0.187j & 0.361 & -0.645j & 0.647\\\\\\end{array}\\right)\\end{equation*}"
      ],
      "text/plain": [
       "Quantum object: dims = [[2, 2], [2, 2]], shape = (4, 4), type = oper, isherm = False\n",
       "Qobj data =\n",
       "[[ 0.35418059+0.j          0.        -0.6452806j   0.65173969+0.j\n",
       "   0.        -0.18593172j]\n",
       " [ 0.        -0.64452472j  0.6470269 +0.j          0.        -0.18673139j\n",
       "  -0.36111393+0.j        ]\n",
       " [-0.65173969+0.j          0.        +0.18593172j  0.35418059+0.j\n",
       "   0.        -0.6452806j ]\n",
       " [ 0.        +0.18673139j  0.36111393+0.j          0.        -0.64452472j\n",
       "   0.6470269 +0.j        ]]"
      ]
     },
     "execution_count": 21,
     "metadata": {},
     "output_type": "execute_result"
    }
   ],
   "source": [
    "%%time\n",
    "U = Uaq(t)\n",
    "U"
   ]
  },
  {
   "cell_type": "markdown",
   "id": "4277ce35-10d3-4516-aaf0-8c1f1d952d15",
   "metadata": {},
   "source": [
    "## Initial state of the ancilla\n",
    "In order to achieve the desired time evolution (given by $H_q$) for the qubit, the ancilla must be prepared in the initial state\n",
    "$$ | \\psi(0) \\rangle_\\mathrm{a} = | 0 \\rangle_\\mathrm{a} + \\eta_0 | 1 \\rangle_\\mathrm{a} ,$$\n",
    "where $\\eta(0) = \\eta_0 \\times I_2$; i.e. $\\eta_0$ is the scalar equivalent of $\\eta(0)$.\\\n",
    "This state can be created by starting from the state $| 0 \\rangle$ and applying a rotation by an angle\n",
    "$$ \\theta = 2 \\tan^{-1}(\\eta_0) $$\n",
    "around the y-axis."
   ]
  },
  {
   "cell_type": "code",
   "execution_count": 22,
   "id": "1220fb0a",
   "metadata": {},
   "outputs": [
    {
     "data": {
      "text/plain": [
       "1.8681498698362826"
      ]
     },
     "execution_count": 22,
     "metadata": {},
     "output_type": "execute_result"
    }
   ],
   "source": [
    "# Convert η(0) to a real scalar.\n",
    "η0 = η(0)[0, 0].real\n",
    "# Make sure η(0) has the form it should have.\n",
    "assert η0 * I == η(0)\n",
    "# Find θ.\n",
    "θ = 2 * np.arctan(η0)\n",
    "θ"
   ]
  },
  {
   "cell_type": "markdown",
   "id": "fb6efeba-0ba4-4add-839d-7603ffda1fd2",
   "metadata": {},
   "source": [
    "By multiplying the time evolution operator $U_\\mathrm{aq}$ with the rotation $R_y(\\theta)$ we can form the operator $U_\\mathrm{full}$, which describes the quantum circuit depicted in fig. 1a) in its entirety.\\\n",
    "Note that the rotation is on the right side in the multiplication, since this way it's the first thing that's applied to a ket state that's being operated upon."
   ]
  },
  {
   "cell_type": "code",
   "execution_count": 23,
   "id": "3001b0bf",
   "metadata": {},
   "outputs": [
    {
     "data": {
      "text/latex": [
       "Quantum object: dims = [[2, 2], [2, 2]], shape = (4, 4), type = oper, isherm = False\\begin{equation*}\\left(\\begin{array}{*{11}c}0.735 & -0.533j & 0.103 & 0.408j\\\\-0.533j & 0.094 & 0.407j & -0.735\\\\-0.103 & -0.408j & 0.735 & -0.533j\\\\-0.407j & 0.735 & -0.533j & 0.094\\\\\\end{array}\\right)\\end{equation*}"
      ],
      "text/plain": [
       "Quantum object: dims = [[2, 2], [2, 2]], shape = (4, 4), type = oper, isherm = False\n",
       "Qobj data =\n",
       "[[ 0.7346134 +0.j          0.        -0.53315792j  0.10272127+0.j\n",
       "   0.        +0.40828946j]\n",
       " [ 0.        -0.53335148j  0.09434447+0.j          0.        +0.40720625j\n",
       "  -0.73494639+0.j        ]\n",
       " [-0.10272127+0.j          0.        -0.40828946j  0.7346134 +0.j\n",
       "   0.        -0.53315792j]\n",
       " [ 0.        -0.40720625j  0.73494639+0.j          0.        -0.53335148j\n",
       "   0.09434447+0.j        ]]"
      ]
     },
     "execution_count": 23,
     "metadata": {},
     "output_type": "execute_result"
    }
   ],
   "source": [
    "Ryθ = ry(θ, N=2, target=ancilla)\n",
    "U_full = U * Ryθ\n",
    "U_full"
   ]
  },
  {
   "cell_type": "markdown",
   "id": "7e3c9784-c275-41ed-9d56-170c6ff70662",
   "metadata": {},
   "source": [
    "## Quantum gates\n",
    "Now that we have found out the full matrix of the operator $U_\\mathrm{full}$, we can proceed to numerically compute the quantum gates needed to approximate it.\n",
    "\n",
    "We use the definition\n",
    "$$ U(\\theta, \\phi, \\lambda) = \\begin{pmatrix} \\cos(\\frac{\\theta}{2}) & -e^{i\\lambda}\\sin(\\frac{\\theta}{2}) \\\\ e^{i\\phi}\\sin(\\frac{\\theta}{2}) & e^{i(\\phi+\\lambda)}\\cos(\\frac{\\theta}{2}) \\end{pmatrix} $$\n",
    "for the U quantum gate, which performs a general rotation with three Euler angles. The same definition is used by Qiskit and QASM 3.0. However, older versions of QASM use the definition\n",
    "$$ U(\\theta, \\phi, \\lambda) = \\begin{pmatrix} e^{-i(\\phi+\\lambda)/2}\\cos(\\frac{\\theta}{2}) & -e^{-i(\\phi-\\lambda)/2}\\sin(\\frac{\\theta}{2}) \\\\ e^{i(\\phi-\\lambda)/2}\\sin(\\frac{\\theta}{2}) & e^{i(\\phi+\\lambda)/2}\\cos(\\frac{\\theta}{2}) \\end{pmatrix}. $$\n",
    "These two definitions differ by a phase difference of $e^{i(\\phi+\\lambda)/2}$. The `qasmu_gate` function of Qutip seems to use the older definition, so we multiply it by this factor to get a U gate that follows our convention. However, since this is a global phase difference (i.e. it only changes a state vector by a scalar constant), the choice of definition won't affect any measurable results."
   ]
  },
  {
   "cell_type": "code",
   "execution_count": 24,
   "id": "d23993af-b3bc-4cb1-8401-8ff199747d52",
   "metadata": {},
   "outputs": [],
   "source": [
    "def qasmu3(θ, ϕ, λ):\n",
    "    return np.exp(1j * (ϕ + λ) / 2) * qasmu_gate([θ, ϕ, λ])"
   ]
  },
  {
   "cell_type": "markdown",
   "id": "7181c3e3-3639-444b-b50a-26052f872c10",
   "metadata": {},
   "source": [
    "The circuit that approximates $U_\\mathrm{full}$ is built from eight U gates, with three CNOT gates between those (see fig. 1a)).\\\n",
    "Note that the operator $U_\\mathrm{full}$ and the U quantum gate are different things, despite the confusing nomenclature."
   ]
  },
  {
   "cell_type": "code",
   "execution_count": 25,
   "id": "b380577e",
   "metadata": {},
   "outputs": [],
   "source": [
    "def U_numeric(angles):\n",
    "    \"\"\"Return the numeric evolution matrix U which is formed when the given\n",
    "    angles are used as the arguments of the U rotation gates.    \n",
    "    \n",
    "    *angles* uses the format [θ1, ϕ1, γ1, θ2, ϕ2, γ2, ...], where X1 are the\n",
    "    angles for gate 1 etc.\n",
    "    Gates 1 and 2 are the ones that are applied first when the circuit acts on \n",
    "    the initial state.\n",
    "    The gates are arranged between the ancilla and the qubit as follows:\n",
    "    \n",
    "    Bit 0 (ancilla) U1      U3\n",
    "                       CNOT    ...\n",
    "    Bit 1 (qubit)   U2      U4\n",
    "    \"\"\"\n",
    "    rotations = [qasmu3(θ, ϕ, γ) for θ, ϕ, γ in zip(\n",
    "        angles[0::3], angles[1::3], angles[2::3])]\n",
    "    tensors = [qt.tensor(ra, rq) for ra, rq in zip(rotations[0::2], \n",
    "                                                   rotations[1::2])]\n",
    "    # Reduce chains the tensors together with CNOTs in between.\n",
    "    # The order of the tensors must be inverted so that tensors[0] becomes the\n",
    "    # rightmost one and is thus applied first on the initial state.\n",
    "    return ft.reduce(lambda a, b: a * cx * b, tensors[::-1])\n",
    "\n",
    "def difference(angles):\n",
    "    \"\"\"Return a scalar measuring the difference between the exact value of \n",
    "    U_full and the approximation U_numeric(angles).\n",
    "    \"\"\"\n",
    "    # This should be 0 if U_numeric was exact.\n",
    "    # Computing the difference like this seems to produce better results than \n",
    "    # a straight-forward subtraction, and is how this is done in the original\n",
    "    # Matlab version of this script.\n",
    "    T = U_numeric(angles) * U_full.dag() - II\n",
    "    # This chains together the real and imaginary parts of the elements of T\n",
    "    # (the root function doesn't work with complex numbers).\n",
    "    return np.array(list(it.chain.from_iterable(\n",
    "        [(z.real, z.imag) for z in T.full().flat]\n",
    "    )))"
   ]
  },
  {
   "cell_type": "code",
   "execution_count": 36,
   "id": "5e86a47a-35a0-4bd9-8e73-0341b9c8e8b6",
   "metadata": {},
   "outputs": [
    {
     "name": "stdout",
     "output_type": "stream",
     "text": [
      "CPU times: user 3.39 s, sys: 89 µs, total: 3.39 s\n",
      "Wall time: 3.4 s\n"
     ]
    },
    {
     "data": {
      "text/latex": [
       "Quantum object: dims = [[2, 2], [2, 2]], shape = (4, 4), type = oper, isherm = False\\begin{equation*}\\left(\\begin{array}{*{11}c}(-4.458\\times10^{-04}+1.042\\times10^{-10}j) & (3.328\\times10^{-10}+1.075\\times10^{-04}j) & (-3.006\\times10^{-04}+4.247\\times10^{-10}j) & (-4.023\\times10^{-10}-4.106\\times10^{-04}j)\\\\(-1.162\\times10^{-10}-2.928\\times10^{-04}j) & (-1.960\\times10^{-04}+7.713\\times10^{-10}j) & (6.365\\times10^{-10}-1.046\\times10^{-04}j) & (-3.278\\times10^{-04}-3.234\\times10^{-11}j)\\\\(3.006\\times10^{-04}+7.001\\times10^{-10}j) & (-7.823\\times10^{-10}+4.106\\times10^{-04}j) & (-4.458\\times10^{-04}+1.768\\times10^{-10}j) & (-2.631\\times10^{-10}+1.075\\times10^{-04}j)\\\\(4.894\\times10^{-10}+1.046\\times10^{-04}j) & (3.278\\times10^{-04}-1.948\\times10^{-10}j) & (4.908\\times10^{-10}-2.928\\times10^{-04}j) & (-1.960\\times10^{-04}-1.106\\times10^{-09}j)\\\\\\end{array}\\right)\\end{equation*}"
      ],
      "text/plain": [
       "Quantum object: dims = [[2, 2], [2, 2]], shape = (4, 4), type = oper, isherm = False\n",
       "Qobj data =\n",
       "[[-4.45805079e-04+1.04177882e-10j  3.32845512e-10+1.07499752e-04j\n",
       "  -3.00566020e-04+4.24692309e-10j -4.02309337e-10-4.10566604e-04j]\n",
       " [-1.16210735e-10-2.92773489e-04j -1.96044876e-04+7.71259221e-10j\n",
       "   6.36461828e-10-1.04596329e-04j -3.27795636e-04-3.23438533e-11j]\n",
       " [ 3.00565985e-04+7.00127678e-10j -7.82296113e-10+4.10566687e-04j\n",
       "  -4.45806860e-04+1.76803946e-10j -2.63114502e-10+1.07499652e-04j]\n",
       " [ 4.89374291e-10+1.04596420e-04j  3.27795738e-04-1.94807594e-10j\n",
       "   4.90813418e-10-2.92772645e-04j -1.96044755e-04-1.10622236e-09j]]"
      ]
     },
     "execution_count": 36,
     "metadata": {},
     "output_type": "execute_result"
    }
   ],
   "source": [
    "%%time\n",
    "x0 = np.array(list(it.repeat(1, 24)))\n",
    "angles = sc.optimize.root(difference, x0, method='lm').x\n",
    "U_num = U_numeric(angles)\n",
    "T = U_num - U_full\n",
    "T"
   ]
  },
  {
   "cell_type": "code",
   "execution_count": 37,
   "id": "e80d8cea-76cb-420e-a79d-3398d3d892d1",
   "metadata": {},
   "outputs": [
    {
     "data": {
      "text/plain": [
       "array([1, 1, 1, 1, 1, 1, 1, 1, 1, 1, 1, 1, 1, 1, 1, 1, 1, 1, 1, 1, 1, 1,\n",
       "       1, 1])"
      ]
     },
     "execution_count": 37,
     "metadata": {},
     "output_type": "execute_result"
    }
   ],
   "source": [
    "x0"
   ]
  },
  {
   "cell_type": "code",
   "execution_count": 38,
   "id": "97875090-fdbf-43a2-a5ef-0845e8d189df",
   "metadata": {},
   "outputs": [
    {
     "data": {
      "text/plain": [
       "array([ 0.69539955, -0.90925405,  1.30900211,  3.04162875, -4.23280898,\n",
       "        0.99187901,  0.96665497,  0.85934082, -0.55697419,  1.77623675,\n",
       "       -1.20480675,  5.26253547,  0.42807193,  1.62196056,  0.69232274,\n",
       "        1.38745059, -4.30223692,  2.77560308,  2.0486624 ,  1.77772976,\n",
       "        2.56920095,  0.05169141,  3.09492372,  4.3887496 ])"
      ]
     },
     "execution_count": 38,
     "metadata": {},
     "output_type": "execute_result"
    }
   ],
   "source": [
    "angles"
   ]
  },
  {
   "cell_type": "code",
   "execution_count": 39,
   "id": "d3109a38-7ded-4325-b138-f4dfe77b0f78",
   "metadata": {},
   "outputs": [
    {
     "data": {
      "text/latex": [
       "Quantum object: dims = [[2, 2], [2, 2]], shape = (4, 4), type = oper, isherm = False\\begin{equation*}\\left(\\begin{array}{*{11}c}(0.734+1.042\\times10^{-10}j) & (3.328\\times10^{-10}-0.533j) & (0.102+4.247\\times10^{-10}j) & (-4.023\\times10^{-10}+0.408j)\\\\(-1.162\\times10^{-10}-0.534j) & (0.094+7.713\\times10^{-10}j) & (6.365\\times10^{-10}+0.407j) & (-0.735-3.234\\times10^{-11}j)\\\\(-0.102+7.001\\times10^{-10}j) & (-7.823\\times10^{-10}-0.408j) & (0.734+1.768\\times10^{-10}j) & (-2.631\\times10^{-10}-0.533j)\\\\(4.894\\times10^{-10}-0.407j) & (0.735-1.948\\times10^{-10}j) & (4.908\\times10^{-10}-0.534j) & (0.094-1.106\\times10^{-09}j)\\\\\\end{array}\\right)\\end{equation*}"
      ],
      "text/plain": [
       "Quantum object: dims = [[2, 2], [2, 2]], shape = (4, 4), type = oper, isherm = False\n",
       "Qobj data =\n",
       "[[ 7.34167594e-01+1.04177882e-10j  3.32845512e-10-5.33050422e-01j\n",
       "   1.02420705e-01+4.24692309e-10j -4.02309337e-10+4.07878893e-01j]\n",
       " [-1.16210735e-10-5.33644252e-01j  9.41484225e-02+7.71259221e-10j\n",
       "   6.36461828e-10+4.07101654e-01j -7.35274187e-01-3.23438533e-11j]\n",
       " [-1.02420705e-01+7.00127678e-10j -7.82296113e-10-4.07878892e-01j\n",
       "   7.34167594e-01+1.76803946e-10j -2.63114502e-10-5.33050422e-01j]\n",
       " [ 4.89374291e-10-4.07101654e-01j  7.35274188e-01-1.94807594e-10j\n",
       "   4.90813418e-10-5.33644251e-01j  9.41484225e-02-1.10622236e-09j]]"
      ]
     },
     "execution_count": 39,
     "metadata": {},
     "output_type": "execute_result"
    }
   ],
   "source": [
    "U_num"
   ]
  },
  {
   "cell_type": "code",
   "execution_count": 33,
   "id": "38ac629d-734a-41b0-abc9-e16a5e47e4ce",
   "metadata": {},
   "outputs": [
    {
     "data": {
      "text/plain": [
       "array([0, 0, 0, 0, 0, 0, 0, 0, 0, 0, 0, 0, 0, 0, 0, 0, 0, 0, 0, 0, 0, 0,\n",
       "       0, 0])"
      ]
     },
     "execution_count": 33,
     "metadata": {},
     "output_type": "execute_result"
    }
   ],
   "source": [
    "x0"
   ]
  },
  {
   "cell_type": "code",
   "execution_count": 34,
   "id": "8040e26b-7dcb-49a0-958c-46fe4ad3a7a2",
   "metadata": {},
   "outputs": [
    {
     "data": {
      "text/plain": [
       "array([ 3.58869682e-06, -5.97336248e-01, -9.73460269e-01,  1.26615438e-12,\n",
       "        3.63096928e-01, -8.09626420e-02,  6.50204902e-03,  2.71143707e-02,\n",
       "        1.54368238e+00, -1.00976036e+00, -9.35322132e-01, -2.82134067e-01,\n",
       "        9.88295950e-01, -3.72036848e-04,  4.08870468e-04,  1.26615726e-12,\n",
       "        3.67653253e-01,  6.49171693e-01, -2.72465411e-01, -9.13097331e-04,\n",
       "        8.77616473e-04,  2.14942959e+00, -1.57079706e+00, -8.15036051e-02])"
      ]
     },
     "execution_count": 34,
     "metadata": {},
     "output_type": "execute_result"
    }
   ],
   "source": [
    "angles"
   ]
  },
  {
   "cell_type": "code",
   "execution_count": 35,
   "id": "5e5e26ab-7af8-40c2-87c9-c7debff89670",
   "metadata": {},
   "outputs": [
    {
     "data": {
      "text/latex": [
       "Quantum object: dims = [[2, 2], [2, 2]], shape = (4, 4), type = oper, isherm = False\\begin{equation*}\\left(\\begin{array}{*{11}c}(0.734+8.909\\times10^{-07}j) & (5.954\\times10^{-07}-0.533j) & (0.102+1.404\\times10^{-06}j) & (8.391\\times10^{-07}+0.408j)\\\\(1.610\\times10^{-08}-0.534j) & (0.094-8.209\\times10^{-07}j) & (5.033\\times10^{-07}+0.407j) & (-0.735-8.860\\times10^{-08}j)\\\\(-0.102+1.637\\times10^{-06}j) & (6.770\\times10^{-07}-0.408j) & (0.734-2.746\\times10^{-07}j) & (-2.333\\times10^{-07}-0.533j)\\\\(3.339\\times10^{-07}-0.407j) & (0.735-2.200\\times10^{-07}j) & (3.369\\times10^{-07}-0.534j) & (0.094+4.857\\times10^{-07}j)\\\\\\end{array}\\right)\\end{equation*}"
      ],
      "text/plain": [
       "Quantum object: dims = [[2, 2], [2, 2]], shape = (4, 4), type = oper, isherm = False\n",
       "Qobj data =\n",
       "[[ 7.34167598e-01+8.90880310e-07j  5.95417882e-07-5.33050413e-01j\n",
       "   1.02420700e-01+1.40379500e-06j  8.39099616e-07+4.07878898e-01j]\n",
       " [ 1.61048174e-08-5.33644250e-01j  9.41484220e-02-8.20948928e-07j\n",
       "   5.03259800e-07+4.07101648e-01j -7.35274192e-01-8.86010199e-08j]\n",
       " [-1.02420700e-01+1.63667882e-06j  6.77016094e-07-4.07878898e-01j\n",
       "   7.34167598e-01-2.74578467e-07j -2.33302716e-07-5.33050413e-01j]\n",
       " [ 3.33870903e-07-4.07101648e-01j  7.35274192e-01-2.19987416e-07j\n",
       "   3.36889115e-07-5.33644250e-01j  9.41484220e-02+4.85743848e-07j]]"
      ]
     },
     "execution_count": 35,
     "metadata": {},
     "output_type": "execute_result"
    }
   ],
   "source": [
    "U_num"
   ]
  },
  {
   "cell_type": "markdown",
   "id": "25e050c5-95fb-4da2-976c-ec7b499cd331",
   "metadata": {},
   "source": [
    "The fidelity\n",
    "$$ F_U = 1 - \\lVert U_\\mathrm{num} - U_\\mathrm{full} \\rVert_2 / \\lVert U_\\mathrm{full} \\rVert_2 $$\n",
    "gives a measure of the accuracy of the approximation."
   ]
  },
  {
   "cell_type": "code",
   "execution_count": 27,
   "id": "104dd66c-7389-45a8-bf29-665aead4835e",
   "metadata": {},
   "outputs": [
    {
     "data": {
      "text/plain": [
       "0.9992935114763009"
      ]
     },
     "execution_count": 27,
     "metadata": {},
     "output_type": "execute_result"
    }
   ],
   "source": [
    "fidelity = 1 - np.linalg.norm(T, ord=2) / np.linalg.norm(U_full, ord=2)\n",
    "fidelity"
   ]
  },
  {
   "cell_type": "markdown",
   "id": "04477836-2558-455b-9d3d-984cfa79ac06",
   "metadata": {},
   "source": [
    "## Composing the circuit\n",
    "\n",
    "Now we can implement our Quantum circuit in Qiskit. The image below follows the numbering scheme used by Qiskit, so $q_0$ corresponds to the qubit and $q_1$ to the ancilla. As a result, the circuit is vertically mirrored compared to fig. 1a) of the article."
   ]
  },
  {
   "cell_type": "code",
   "execution_count": 28,
   "id": "eee7241b-e0f2-4281-9140-778ef1e97707",
   "metadata": {},
   "outputs": [
    {
     "data": {
      "image/png": "[encoded data removed]",
      "text/plain": [
       "<Figure size 1200.48x204.68 with 1 Axes>"
      ]
     },
     "execution_count": 28,
     "metadata": {},
     "output_type": "execute_result"
    },
    {
     "data": {
      "image/png": "[encoded data removed]",
      "text/plain": [
       "<Figure size 1200.48x204.68 with 1 Axes>"
      ]
     },
     "metadata": {},
     "output_type": "display_data"
    }
   ],
   "source": [
    "qc = qk.QuantumCircuit(2)\n",
    "# Use the angles to generate the U rotation gates.\n",
    "rotations = [qk.circuit.library.UGate(θ, ϕ, γ) for θ, ϕ, γ in\n",
    "             zip(angles[0::3], angles[1::3], angles[2::3])]\n",
    "# Chain the U gates together with CNOTs in between.\n",
    "for i, rot_pair in enumerate(zip(rotations[0::2], rotations[1::2])):\n",
    "    if i > 0:\n",
    "        qc.cx(control_qubit=qubit_qk, target_qubit=ancilla_qk)\n",
    "    qc.append(rot_pair[0], qargs=[ancilla_qk])\n",
    "    qc.append(rot_pair[1], qargs=[qubit_qk])\n",
    "\n",
    "qc.measure_all()\n",
    "qc.draw('mpl')"
   ]
  },
  {
   "cell_type": "markdown",
   "id": "691ab9fc-47ae-4c7f-ae51-deb2fbab04de",
   "metadata": {},
   "source": [
    "Qiskit can also automatically generate the QASM code for the circuit."
   ]
  },
  {
   "cell_type": "code",
   "execution_count": 29,
   "id": "db4eb171-3a0c-4beb-9c8b-2b4d3ed80462",
   "metadata": {},
   "outputs": [
    {
     "name": "stdout",
     "output_type": "stream",
     "text": [
      "OPENQASM 2.0;\n",
      "include \"qelib1.inc\";\n",
      "qreg q[2];\n",
      "creg meas[2];\n",
      "u(3.5886968e-06,-0.59733625,-0.97346027) q[1];\n",
      "u(1.2661544e-12,0.36309693,-0.080962642) q[0];\n",
      "cx q[0],q[1];\n",
      "u(0.006502049,0.027114371,1.5436824) q[1];\n",
      "u(-1.0097604,-0.93532213,-0.28213407) q[0];\n",
      "cx q[0],q[1];\n",
      "u(0.98829595,-0.00037203685,0.00040887047) q[1];\n",
      "u(1.2661573e-12,0.36765325,0.64917169) q[0];\n",
      "cx q[0],q[1];\n",
      "u(-0.27246541,-0.00091309733,0.00087761647) q[1];\n",
      "u(2.1494296,-pi/2,-0.081503605) q[0];\n",
      "barrier q[0],q[1];\n",
      "measure q[0] -> meas[0];\n",
      "measure q[1] -> meas[1];\n",
      "\n"
     ]
    }
   ],
   "source": [
    "print(qc.qasm())"
   ]
  },
  {
   "cell_type": "markdown",
   "id": "d3612737-93fc-4448-aa72-216d326a6063",
   "metadata": {},
   "source": [
    "## Testing the circuit\n",
    "\n",
    "Finally, we test our circuit on a simulator to see the results it produces and to compare those to theoretical predictions."
   ]
  },
  {
   "cell_type": "code",
   "execution_count": 30,
   "id": "9f158b5f",
   "metadata": {},
   "outputs": [
    {
     "name": "stdout",
     "output_type": "stream",
     "text": [
      "CPU times: user 3.16 s, sys: 112 ms, total: 3.27 s\n",
      "Wall time: 2.88 s\n"
     ]
    },
    {
     "data": {
      "image/png": "[encoded data removed]",
      "text/plain": [
       "<Figure size 504x360 with 1 Axes>"
      ]
     },
     "execution_count": 30,
     "metadata": {},
     "output_type": "execute_result"
    },
    {
     "data": {
      "image/png": "[encoded data removed]",
      "text/plain": [
       "<Figure size 504x360 with 1 Axes>"
      ]
     },
     "metadata": {
      "needs_background": "light"
     },
     "output_type": "display_data"
    }
   ],
   "source": [
    "%%time\n",
    "simulator = qk.Aer.get_backend('aer_simulator')\n",
    "job = qk.transpile(qc, simulator)\n",
    "result = simulator.run(job, shots=1E6).result()\n",
    "counts = result.get_counts()\n",
    "plot_histogram(counts, title='Simulation results\\nXY = ancilla X, Qubit Y')"
   ]
  },
  {
   "cell_type": "markdown",
   "id": "e47f38ad-2ca3-4ca7-9b03-45768101a317",
   "metadata": {},
   "source": [
    "We are mostly interested in the probabilities in the subspace where $| \\psi \\rangle_\\mathrm{a} = | 0 \\rangle_\\mathrm{a}$."
   ]
  },
  {
   "cell_type": "code",
   "execution_count": 31,
   "id": "7be657c2-3f3b-45b8-8dd8-c22b2d502c42",
   "metadata": {},
   "outputs": [
    {
     "data": {
      "image/png": "[encoded data removed]",
      "text/plain": [
       "<Figure size 504x360 with 1 Axes>"
      ]
     },
     "execution_count": 31,
     "metadata": {},
     "output_type": "execute_result"
    },
    {
     "data": {
      "image/png": "[encoded data removed]",
      "text/plain": [
       "<Figure size 504x360 with 1 Axes>"
      ]
     },
     "metadata": {
      "needs_background": "light"
     },
     "output_type": "display_data"
    }
   ],
   "source": [
    "# Even though we are working with Qiskit, the non-Qiskit bit ordering needs to # be used here, since that corresponds to bits[0] = bit 0.\n",
    "subspace_total = sum(count for bits, count in counts.items()\n",
    "                     if bits[ancilla] == '0')\n",
    "subspace_counts = {bits[qubit]: count / subspace_total\n",
    "                   for bits, count in counts.items()\n",
    "                   if bits[ancilla] == '0'}\n",
    "plot_histogram(subspace_counts, title='Simulation results in the ancilla=0 subspace')"
   ]
  },
  {
   "cell_type": "markdown",
   "id": "289cc156-c438-42f2-a626-62edabd12b8c",
   "metadata": {},
   "source": [
    "## Comparison to theory\n",
    "\n",
    "The theoretical prediction for a system evolved with the Hamiltonian $H_q$ is presented below.\n",
    "This should match quite closely with the results above, though some discrepancy is to be expected, since there is a degree of randomness in the simulation results."
   ]
  },
  {
   "cell_type": "code",
   "execution_count": 32,
   "id": "03ee7caf",
   "metadata": {},
   "outputs": [
    {
     "data": {
      "image/png": "[encoded data removed]",
      "text/plain": [
       "<Figure size 504x360 with 1 Axes>"
      ]
     },
     "execution_count": 32,
     "metadata": {},
     "output_type": "execute_result"
    },
    {
     "data": {
      "image/png": "[encoded data removed]",
      "text/plain": [
       "<Figure size 504x360 with 1 Axes>"
      ]
     },
     "metadata": {
      "needs_background": "light"
     },
     "output_type": "display_data"
    }
   ],
   "source": [
    "# Evolve the initial state |0> to time t.\n",
    "state = evolve(ket0, lambda t: Hq, t)\n",
    "# Compute the probabilities.\n",
    "p0 = abs(ket0.overlap(state))**2\n",
    "p1 = abs(ket1.overlap(state))**2\n",
    "sub_counts = {'0': p0, '1': p1}\n",
    "plot_histogram(sub_counts, title='Theoretical predictions for the results')"
   ]
  }
 ],
 "metadata": {
  "kernelspec": {
   "display_name": "Python 3 (ipykernel)",
   "language": "python",
   "name": "python3"
  },
  "language_info": {
   "codemirror_mode": {
    "name": "ipython",
    "version": 3
   },
   "file_extension": ".py",
   "mimetype": "text/x-python",
   "name": "python",
   "nbconvert_exporter": "python",
   "pygments_lexer": "ipython3",
   "version": "3.8.12"
  }
 },
 "nbformat": 4,
 "nbformat_minor": 5
}
